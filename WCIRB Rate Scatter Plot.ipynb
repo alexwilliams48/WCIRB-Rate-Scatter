{
 "cells": [
  {
   "cell_type": "code",
   "execution_count": 157,
   "id": "9a56fd08",
   "metadata": {},
   "outputs": [],
   "source": [
    "import pandas as pd\n",
    "import matplotlib.pyplot as plt\n",
    "import matplotlib.dates as mdates\n",
    "import numpy as np\n",
    "import datetime"
   ]
  },
  {
   "cell_type": "code",
   "execution_count": 158,
   "id": "4e2dc2d3",
   "metadata": {},
   "outputs": [],
   "source": [
    "all_files = (r\"C:\\.....\\....\\.....\\.....\\approved_01012018_pure_premium_rates.csv\", \n",  ##File location hidden for privacy
    "             r\"C:\\....\\....\\.....\\.....\\approved_7_1_2018_pure_premium_rates.csv\",    \n",  ##File location hidden for privacy
    "            r\"C:\\....\\....\\.....\\.....\\\Desktop\\jan_1_2019_approved_pure_premium_rates.csv\",\n",     ##File location hidden for privacy
    "            r\"C:\\....\\....\\.....\\.....\\\Desktop\\approved_01012020_pure_premium_rates.csv\",\n",    ##File location hidden for privacy
    "            r\"C:\\....\\....\\.....\\.....\\\Desktop\\approved_09012021_pure_premium_rates.csv\")\n",   ##File location hidden for privacy
    "rate_dict = {}\n",
    "for f in all_files:\n",
    "    df = pd.read_csv(f, header = None)\n",
    "    for i in df.index:    \n",
    "        rate_dict.setdefault(df.loc[i, 0], []).append(df.loc[i, 1])\n",
    "        \n"
   ]
  },
  {
   "cell_type": "code",
   "execution_count": 159,
   "id": "6cce39ca",
   "metadata": {
    "scrolled": true
   },
   "outputs": [],
   "source": [
    "def rate_scat(x):\n",
    "    \n",
    "    dates = [\"2018-01-10\", \"2018-01-07\", \"2019-01-10\", \"2020-01-10\", \"2021-01-10\"]\n",
    "    \n",
    "\n",
    "    y = rate_dict[x]\n",
    "    plt.scatter(dates, y)\n",
    "    plt.xlabel(\"Date\")\n",
    "    plt.ylabel(\"Premium Rate\")\n",
    "    plt.show()\n"
   ]
  },
  {
   "cell_type": "code",
   "execution_count": 160,
   "id": "9c10e286",
   "metadata": {},
   "outputs": [
    {
     "data": {
      "image/png": "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\n",
      "text/plain": [
       "<Figure size 432x288 with 1 Axes>"
      ]
     },
     "metadata": {
      "needs_background": "light"
     },
     "output_type": "display_data"
    },
    {
     "data": {
      "image/png": "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\n",
      "text/plain": [
       "<Figure size 432x288 with 1 Axes>"
      ]
     },
     "metadata": {
      "needs_background": "light"
     },
     "output_type": "display_data"
    }
   ],
   "source": [
    "rate_scat(2727)\n",
    "rate_scat(8810)"
   ]
  },
  {
   "cell_type": "raw",
   "id": "8743d45d",
   "metadata": {},
   "source": []
  }
 ],
 "metadata": {
  "kernelspec": {
   "display_name": "Python 3 (ipykernel)",
   "language": "python",
   "name": "python3"
  },
  "language_info": {
   "codemirror_mode": {
    "name": "ipython",
    "version": 3
   },
   "file_extension": ".py",
   "mimetype": "text/x-python",
   "name": "python",
   "nbconvert_exporter": "python",
   "pygments_lexer": "ipython3",
   "version": "3.9.7"
  }
 },
 "nbformat": 4,
 "nbformat_minor": 5
}
